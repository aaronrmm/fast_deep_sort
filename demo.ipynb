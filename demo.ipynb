{
 "cells": [
  {
   "cell_type": "code",
   "execution_count": null,
   "metadata": {},
   "outputs": [],
   "source": [
    "%load_ext autoreload\n",
    "%autoreload 2"
   ]
  },
  {
   "cell_type": "code",
   "execution_count": null,
   "metadata": {},
   "outputs": [],
   "source": [
    "import tensorflow as tf\n",
    "import pathlib\n",
    "import os\n",
    "import numpy as np\n",
    "from PIL import Image"
   ]
  },
  {
   "cell_type": "code",
   "execution_count": null,
   "metadata": {},
   "outputs": [],
   "source": [
    "import tensorflow as tf\n",
    "import numpy as np\n",
    "from pathlib import Path\n",
    "from tensorflow import keras\n",
    "from importlib import import_module\n",
    "from fast_deep_sort.preprocess import frame_batch_iterator\n",
    "from fast_deep_sort.detection import load_detector\n",
    "from fast_deep_sort.track import TrackManager"
   ]
  },
  {
   "cell_type": "code",
   "execution_count": null,
   "metadata": {},
   "outputs": [],
   "source": [
    "import main\n",
    "matchmaker = main.Matcher()\n",
    "tracks = main.generate_tracks(matchmaker)"
   ]
  },
  {
   "cell_type": "code",
   "execution_count": null,
   "metadata": {},
   "outputs": [],
   "source": [
    "import matplotlib.pyplot as plt\n",
    "from matplotlib import animation, rc\n",
    "from IPython.display import display, Image, HTML\n",
    "import seaborn as sns"
   ]
  },
  {
   "cell_type": "code",
   "execution_count": null,
   "metadata": {},
   "outputs": [],
   "source": [
    "max_frames = 0\n",
    "color_pallete = sns.color_palette(\"hls\", len(tracks))\n",
    "track_colors = {}\n",
    "for track_idx, track in enumerate(tracks):\n",
    "    if track.get_last_detection().frame_idx > max_frames:\n",
    "        max_frames = track.get_last_detection().frame_idx\n",
    "    track_colors[track] = color_pallete[track_idx]\n",
    "max_frames"
   ]
  },
  {
   "cell_type": "code",
   "execution_count": null,
   "metadata": {},
   "outputs": [],
   "source": [
    "import matplotlib.pyplot as plt\n",
    "import matplotlib.animation as animation\n",
    "from matplotlib.patches import Rectangle\n",
    "from matplotlib.artist import Artist\n",
    "import matplotlib.image as mpimg\n",
    "\n",
    "fig = plt.figure()\n",
    "ax = plt.gca()\n",
    "class Visual:\n",
    "    def __init__(self, frame_idx, image_file, tracks):\n",
    "        self.frame_idx = frame_idx\n",
    "        self.image_file = image_file\n",
    "        self.active_detections = []\n",
    "        self.active_tracks = []\n",
    "        self.fading_detections = []\n",
    "        self.faded_detections = []\n",
    "        self.faded_tracks = []\n",
    "        for track in tracks:\n",
    "            if frame_idx in track.detections.keys():\n",
    "                self.active_detections.append(track.detections[frame_idx])\n",
    "                self.active_tracks.append(track)\n",
    "            else:\n",
    "                self.faded_tracks.append(track)\n",
    "                '''\n",
    "                for backtrack in range(frame_idx, 0, -1):\n",
    "                    if backtrack in track.detections.keys():\n",
    "                        self.faded_detections.append(track.detections[backtrack])\n",
    "                        self.faded_tracks.append(track)\n",
    "                        break\n",
    "                '''\n",
    "        \n",
    "        # generate artists\n",
    "        self.artists = []\n",
    "        \n",
    "        #image artist\n",
    "        pil_im = mpimg.imread(image_file, 'r');\n",
    "        im_arr = np.asarray(pil_im);\n",
    "        im = plt.imshow(im_arr, animated=True);\n",
    "        self.artists.append(im)\n",
    "        \n",
    "        image_width = im_arr.shape[1]\n",
    "        image_height = im_arr.shape[0]\n",
    "\n",
    "  \n",
    "\n",
    "        # active detection rect artists\n",
    "        for track in self.active_tracks:\n",
    "            detection = track.detections[frame_idx]\n",
    "            x = detection.left(image_width)\n",
    "            y = detection.top(image_height)\n",
    "            width = detection.width(image_width)\n",
    "            height = detection.height(image_height)\n",
    "            rect = Rectangle((x, y),width, height,linewidth=2,edgecolor=track_colors[track],facecolor='none', animated=True)\n",
    "            rect_art = ax.add_patch(rect)\n",
    "            self.artists.append(rect_art)\n",
    "            \n",
    "        \n",
    "    \n",
    "visuals = []\n",
    "\n",
    "image_dir = Path('./input_frames')\n",
    "image_files = os.listdir(image_dir)\n",
    "for frame_idx in range(max_frames):\n",
    "    vis = Visual(frame_idx, image_dir/image_files[frame_idx], tracks)\n",
    "    visuals.append(vis)"
   ]
  },
  {
   "cell_type": "code",
   "execution_count": null,
   "metadata": {},
   "outputs": [],
   "source": [
    "ims = [vis.artists for vis in visuals] \n",
    "ani = animation.ArtistAnimation(fig, ims, interval=60, blit=False,\n",
    "                                repeat_delay=1000)\n",
    "\n",
    "HTML(ani.to_html5_video())"
   ]
  },
  {
   "cell_type": "code",
   "execution_count": null,
   "metadata": {},
   "outputs": [],
   "source": []
  }
 ],
 "metadata": {
  "kernelspec": {
   "display_name": "Python 3",
   "language": "python",
   "name": "python3"
  },
  "language_info": {
   "codemirror_mode": {
    "name": "ipython",
    "version": 3
   },
   "file_extension": ".py",
   "mimetype": "text/x-python",
   "name": "python",
   "nbconvert_exporter": "python",
   "pygments_lexer": "ipython3",
   "version": "3.7.3"
  }
 },
 "nbformat": 4,
 "nbformat_minor": 4
}
